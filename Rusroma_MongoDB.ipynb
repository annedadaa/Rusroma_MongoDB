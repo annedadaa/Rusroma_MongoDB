{
 "cells": [
  {
   "cell_type": "markdown",
   "metadata": {},
   "source": [
    "# Работа с параллельным русско-цыганским корпусом в MongoDB "
   ]
  },
  {
   "cell_type": "code",
   "execution_count": 3,
   "metadata": {
    "collapsed": true,
    "id": "X6xI4XHfi8CU"
   },
   "outputs": [
    {
     "name": "stdout",
     "output_type": "stream",
     "text": [
      "\u001b[33mDEPRECATION: Configuring installation scheme with distutils config files is deprecated and will no longer work in the near future. If you are using a Homebrew or Linuxbrew Python, please see discussion at https://github.com/Homebrew/homebrew-core/issues/76621\u001b[0m\n",
      "Requirement already satisfied: pymorphy2 in /Users/assmirnova/Library/Python/3.9/lib/python/site-packages (0.9.1)\n",
      "Requirement already satisfied: dawg-python>=0.7.1 in /Users/assmirnova/Library/Python/3.9/lib/python/site-packages (from pymorphy2) (0.7.2)\n",
      "Requirement already satisfied: docopt>=0.6 in /Users/assmirnova/Library/Python/3.9/lib/python/site-packages (from pymorphy2) (0.6.2)\n",
      "Requirement already satisfied: pymorphy2-dicts-ru<3.0,>=2.4 in /Users/assmirnova/Library/Python/3.9/lib/python/site-packages (from pymorphy2) (2.4.417127.4579844)\n",
      "\u001b[33mWARNING: You are using pip version 21.3.1; however, version 22.0.4 is available.\n",
      "You should consider upgrading via the '/usr/local/opt/python@3.9/bin/python3.9 -m pip install --upgrade pip' command.\u001b[0m\n"
     ]
    }
   ],
   "source": [
    "!pip3 install pymorphy2"
   ]
  },
  {
   "cell_type": "code",
   "execution_count": 4,
   "metadata": {
    "collapsed": true
   },
   "outputs": [
    {
     "name": "stdout",
     "output_type": "stream",
     "text": [
      "\u001b[33mWARNING: Skipping bson as it is not installed.\u001b[0m\n",
      "\u001b[33mWARNING: Skipping pymongo as it is not installed.\u001b[0m\n",
      "\u001b[33mDEPRECATION: Configuring installation scheme with distutils config files is deprecated and will no longer work in the near future. If you are using a Homebrew or Linuxbrew Python, please see discussion at https://github.com/Homebrew/homebrew-core/issues/76621\u001b[0m\n",
      "Collecting pymongo\n",
      "  Downloading pymongo-4.0.2-cp39-cp39-macosx_10_9_x86_64.whl (350 kB)\n",
      "     |████████████████████████████████| 350 kB 1.8 MB/s            \n",
      "\u001b[?25hInstalling collected packages: pymongo\n",
      "\u001b[33mDEPRECATION: Configuring installation scheme with distutils config files is deprecated and will no longer work in the near future. If you are using a Homebrew or Linuxbrew Python, please see discussion at https://github.com/Homebrew/homebrew-core/issues/76621\u001b[0m\n",
      "Successfully installed pymongo-4.0.2\n",
      "\u001b[33mWARNING: You are using pip version 21.3.1; however, version 22.0.4 is available.\n",
      "You should consider upgrading via the '/usr/local/opt/python@3.9/bin/python3.9 -m pip install --upgrade pip' command.\u001b[0m\n"
     ]
    }
   ],
   "source": [
    "!pip3 uninstall bson --y\n",
    "!pip3 uninstall pymongo --y\n",
    "!pip3 install pymongo"
   ]
  },
  {
   "cell_type": "code",
   "execution_count": 5,
   "metadata": {
    "id": "kU1vY6qH7vOQ"
   },
   "outputs": [],
   "source": [
    "from pprint import pprint"
   ]
  },
  {
   "cell_type": "code",
   "execution_count": 9,
   "metadata": {
    "id": "VOGKg3ka69Nq"
   },
   "outputs": [],
   "source": [
    "import requests\n",
    "import re\n",
    "import time\n",
    "import datetime\n",
    "from tqdm import tqdm\n",
    "import pymorphy2\n",
    "\n",
    "import pymongo\n",
    "from bson import ObjectId\n",
    "\n",
    "delcom=re.compile(\"<!--.+-->\", re.S)"
   ]
  },
  {
   "cell_type": "code",
   "execution_count": 10,
   "metadata": {
    "id": "r4X26rnO7Fm7"
   },
   "outputs": [],
   "source": [
    "# Подключаемся к базе данных\n",
    "client = pymongo.MongoClient('localhost', 27017)"
   ]
  },
  {
   "cell_type": "code",
   "execution_count": 702,
   "metadata": {
    "id": "QftoSZ597Qkn"
   },
   "outputs": [],
   "source": [
    "db = client['test3_db']"
   ]
  },
  {
   "cell_type": "code",
   "execution_count": 703,
   "metadata": {
    "id": "mkZ0sIdajPeP"
   },
   "outputs": [],
   "source": [
    "rus = db.rus # тут будут лежать тексты на русском\n",
    "roma = db.roma # тут будут лежать тексты на цыганском"
   ]
  },
  {
   "cell_type": "markdown",
   "metadata": {
    "id": "GNFvkQ6JosMz"
   },
   "source": [
    "### Подготовка данных"
   ]
  },
  {
   "cell_type": "code",
   "execution_count": 13,
   "metadata": {
    "id": "SCFIk8ht7TwQ"
   },
   "outputs": [],
   "source": [
    "import pandas as pd"
   ]
  },
  {
   "cell_type": "code",
   "execution_count": 449,
   "metadata": {
    "colab": {
     "base_uri": "https://localhost:8080/",
     "height": 333
    },
    "id": "qcBCwTqmOD-I",
    "outputId": "33854ee5-0956-446a-eb03-bd488f995184"
   },
   "outputs": [
    {
     "data": {
      "text/html": [
       "<div>\n",
       "<style scoped>\n",
       "    .dataframe tbody tr th:only-of-type {\n",
       "        vertical-align: middle;\n",
       "    }\n",
       "\n",
       "    .dataframe tbody tr th {\n",
       "        vertical-align: top;\n",
       "    }\n",
       "\n",
       "    .dataframe thead th {\n",
       "        text-align: right;\n",
       "    }\n",
       "</style>\n",
       "<table border=\"1\" class=\"dataframe\">\n",
       "  <thead>\n",
       "    <tr style=\"text-align: right;\">\n",
       "      <th></th>\n",
       "      <th>roma</th>\n",
       "      <th>rus</th>\n",
       "      <th>source_ru</th>\n",
       "      <th>source_roma</th>\n",
       "      <th>author</th>\n",
       "      <th>original_year</th>\n",
       "      <th>translation_year</th>\n",
       "    </tr>\n",
       "  </thead>\n",
       "  <tbody>\n",
       "    <tr>\n",
       "      <th>0</th>\n",
       "      <td>Глава I. Бут бэрша одолэскэ палэ дрэ екх пэски...</td>\n",
       "      <td>﻿Глава I. Несколько лет тому назад в одном из ...</td>\n",
       "      <td>Дубровский</td>\n",
       "      <td>Дубровско</td>\n",
       "      <td>Александр Пушкин</td>\n",
       "      <td>1841</td>\n",
       "      <td>1935</td>\n",
       "    </tr>\n",
       "    <tr>\n",
       "      <th>1</th>\n",
       "      <td>Лэскиро барвалыпэ, славутно родо и спхандыпэна...</td>\n",
       "      <td>Его богатство, знатный род и связи давали ему ...</td>\n",
       "      <td>Дубровский</td>\n",
       "      <td>Дубровско</td>\n",
       "      <td>Александр Пушкин</td>\n",
       "      <td>1841</td>\n",
       "      <td>1935</td>\n",
       "    </tr>\n",
       "    <tr>\n",
       "      <th>2</th>\n",
       "      <td>Пашылатунэ рая радымаса могискирдэ тэ кэрэн со...</td>\n",
       "      <td>Соседи рады были угождать малейшим его прихотя...</td>\n",
       "      <td>Дубровский</td>\n",
       "      <td>Дубровско</td>\n",
       "      <td>Александр Пушкин</td>\n",
       "      <td>1841</td>\n",
       "      <td>1935</td>\n",
       "    </tr>\n",
       "    <tr>\n",
       "      <th>3</th>\n",
       "      <td>Кирило Петровичё прилэлас подобострастиёскирэ ...</td>\n",
       "      <td>Кирила Петрович принимал знаки подобострастия ...</td>\n",
       "      <td>Дубровский</td>\n",
       "      <td>Дубровско</td>\n",
       "      <td>Александр Пушкин</td>\n",
       "      <td>1841</td>\n",
       "      <td>1935</td>\n",
       "    </tr>\n",
       "    <tr>\n",
       "      <th>4</th>\n",
       "      <td>Никон на могискирдя тэ отпхэнэлпэ, коли Кирило...</td>\n",
       "      <td>Никто не дерзал отказываться от его приглашени...</td>\n",
       "      <td>Дубровский</td>\n",
       "      <td>Дубровско</td>\n",
       "      <td>Александр Пушкин</td>\n",
       "      <td>1841</td>\n",
       "      <td>1935</td>\n",
       "    </tr>\n",
       "  </tbody>\n",
       "</table>\n",
       "</div>"
      ],
      "text/plain": [
       "                                                roma  \\\n",
       "0  Глава I. Бут бэрша одолэскэ палэ дрэ екх пэски...   \n",
       "1  Лэскиро барвалыпэ, славутно родо и спхандыпэна...   \n",
       "2  Пашылатунэ рая радымаса могискирдэ тэ кэрэн со...   \n",
       "3  Кирило Петровичё прилэлас подобострастиёскирэ ...   \n",
       "4  Никон на могискирдя тэ отпхэнэлпэ, коли Кирило...   \n",
       "\n",
       "                                                 rus   source_ru source_roma  \\\n",
       "0  ﻿Глава I. Несколько лет тому назад в одном из ...  Дубровский   Дубровско   \n",
       "1  Его богатство, знатный род и связи давали ему ...  Дубровский   Дубровско   \n",
       "2  Соседи рады были угождать малейшим его прихотя...  Дубровский   Дубровско   \n",
       "3  Кирила Петрович принимал знаки подобострастия ...  Дубровский   Дубровско   \n",
       "4  Никто не дерзал отказываться от его приглашени...  Дубровский   Дубровско   \n",
       "\n",
       "             author  original_year  translation_year  \n",
       "0  Александр Пушкин           1841              1935  \n",
       "1  Александр Пушкин           1841              1935  \n",
       "2  Александр Пушкин           1841              1935  \n",
       "3  Александр Пушкин           1841              1935  \n",
       "4  Александр Пушкин           1841              1935  "
      ]
     },
     "execution_count": 449,
     "metadata": {},
     "output_type": "execute_result"
    }
   ],
   "source": [
    "df = pd.read_csv('/Users/assmirnova/Downloads/corpus.csv', sep=',', encoding='utf-8')\n",
    "df = df.drop(['Unnamed: 0', 'Unnamed: 0.1'], axis=1)\n",
    "df.head()"
   ]
  },
  {
   "cell_type": "markdown",
   "metadata": {
    "id": "2_n-Kkz5OhJp"
   },
   "source": [
    "### Создадим класс для данных для их удобного преобразования в нужный формат"
   ]
  },
  {
   "cell_type": "code",
   "execution_count": 708,
   "metadata": {
    "id": "82zXz9qdOkTA"
   },
   "outputs": [],
   "source": [
    "morph = pymorphy2.MorphAnalyzer()\n",
    "\n",
    "class Rusroma:\n",
    "    def __init__(self):\n",
    "        self.title_rus = \"\"\n",
    "        self.title_roma = \"\"\n",
    "        self.author = \"\"\n",
    "        self.year_original = \"\"\n",
    "        self.year_translation = \"\"\n",
    "        self.text_rus = \"\"\n",
    "        self.text_roma = \"\"\n",
    "    \n",
    "def getDocumentText(row):\n",
    "    docs = Rusroma()\n",
    "    docs.title_rus = df.source_ru.loc[row]\n",
    "    docs.title_roma = df.source_roma.loc[row]\n",
    "    docs.author = df.author.loc[row]\n",
    "    docs.year_original = df.original_year.loc[row]\n",
    "    docs.year_translation = df.translation_year.loc[row]\n",
    "    docs.text_rus = df.rus.loc[row]\n",
    "    docs.text_roma = df.roma.loc[row]\n",
    "    return docs\n",
    "\n",
    "\n",
    "def getDocuments(df):\n",
    "    for row in tqdm(range(len(df))):\n",
    "        docs = getDocumentText(row)\n",
    "        words = re.findall(\"([А-Яа-я]+(\\-[А-Яа-я]+)?)\", docs.text_rus)\n",
    "        pos_tags = ''\n",
    "        for w in words:\n",
    "            wf = morph.parse(w[0])\n",
    "            pos_tags += str(wf[0].tag.POS) + ' '\n",
    "        \n",
    "        \n",
    "        res_rus={\"title\":docs.title_rus,\n",
    "                 \"author\":docs.author,\n",
    "                 \"year\":docs.year_original,\n",
    "                 \"sentence\":docs.text_rus,\n",
    "                 \"pos_tags\":pos_tags}\n",
    "        text_id_rus = rus.insert_one(res_rus).inserted_id\n",
    "        res_roma={\"title\":docs.title_roma,\n",
    "                  \"author\":docs.author,\n",
    "                  \"year\":docs.year_translation,\n",
    "                  \"sentence\":docs.text_roma,\n",
    "                  \"original_text_id\":text_id_rus}\n",
    "        text_id_roma = roma.insert_one(res_roma).inserted_id"
   ]
  },
  {
   "cell_type": "code",
   "execution_count": 710,
   "metadata": {},
   "outputs": [],
   "source": [
    "df['original_year'] = df['original_year'].astype(float)\n",
    "df['translation_year'] = df['translation_year'].astype(float)"
   ]
  },
  {
   "cell_type": "code",
   "execution_count": 711,
   "metadata": {
    "colab": {
     "base_uri": "https://localhost:8080/",
     "height": 341
    },
    "id": "3Qwgu52-184y",
    "outputId": "7cf74fe4-cbe9-4f5a-bb50-47577b8eda0e"
   },
   "outputs": [
    {
     "name": "stderr",
     "output_type": "stream",
     "text": [
      "100%|███████████████████████████████████████| 3640/3640 [00:48<00:00, 74.99it/s]\n"
     ]
    }
   ],
   "source": [
    "getDocuments(df)"
   ]
  },
  {
   "cell_type": "code",
   "execution_count": 712,
   "metadata": {
    "id": "5SPkP8UX2Eit"
   },
   "outputs": [
    {
     "name": "stdout",
     "output_type": "stream",
     "text": [
      "{'_id': ObjectId('6244bc2cf1b3d998f92bf58f'),\n",
      " 'author': 'Александр Пушкин',\n",
      " 'pos_tags': 'NOUN ADVB NOUN ADJF ADVB PREP ADJF PREP ADJF NOUN VERB ADJF ADJF '\n",
      "             'NOUN NOUN NOUN NOUN ',\n",
      " 'sentence': '\\ufeffГлава I. Несколько лет тому назад в одном из своих '\n",
      "             'поместий жил старинный русской барин, Кирила Петрович Троекуров.',\n",
      " 'title': 'Дубровский',\n",
      " 'year': 1841.0}\n",
      "{'_id': ObjectId('6244bc2cf1b3d998f92bf591'),\n",
      " 'author': 'Александр Пушкин',\n",
      " 'pos_tags': 'NPRO NOUN ADJF VERB CONJ NOUN VERB NPRO ADJF NOUN PREP NOUN ADVB '\n",
      "             'VERB NPRO NOUN ',\n",
      " 'sentence': 'Его богатство, знатный род и связи давали ему большой вес в '\n",
      "             'губерниях, где находилось его имение.',\n",
      " 'title': 'Дубровский',\n",
      " 'year': 1841.0}\n"
     ]
    }
   ],
   "source": [
    "for t in rus.find()[:2]:\n",
    "    pprint(t)"
   ]
  },
  {
   "cell_type": "code",
   "execution_count": 713,
   "metadata": {},
   "outputs": [
    {
     "name": "stdout",
     "output_type": "stream",
     "text": [
      "{'_id': ObjectId('6244bc2cf1b3d998f92bf590'),\n",
      " 'author': 'Александр Пушкин',\n",
      " 'original_text_id': ObjectId('6244bc2cf1b3d998f92bf58f'),\n",
      " 'sentence': 'Глава I. Бут бэрша одолэскэ палэ дрэ екх пэскирэ филатинэндыр '\n",
      "             'джиндя пхурано русско рай, Кирило Петровичё Троекурово.',\n",
      " 'title': 'Дубровско',\n",
      " 'year': 1935.0}\n",
      "{'_id': ObjectId('6244bc2cf1b3d998f92bf592'),\n",
      " 'author': 'Александр Пушкин',\n",
      " 'original_text_id': ObjectId('6244bc2cf1b3d998f92bf591'),\n",
      " 'sentence': 'Лэскиро барвалыпэ, славутно родо и спхандыпэна дэнас лэскэ баро '\n",
      "             'тырдыпэ дрэ губерния, кай сыс лэскири филатин.',\n",
      " 'title': 'Дубровско',\n",
      " 'year': 1935.0}\n"
     ]
    }
   ],
   "source": [
    "for t in roma.find()[:2]:\n",
    "    pprint(t)"
   ]
  },
  {
   "cell_type": "markdown",
   "metadata": {
    "id": "qJfTA7kia4Mn"
   },
   "source": [
    "### Интерфейс с CRUD (Create, Read, Update, Delete)"
   ]
  },
  {
   "cell_type": "markdown",
   "metadata": {},
   "source": [
    "#### Можем добавлять данные (в формате словаря)"
   ]
  },
  {
   "cell_type": "code",
   "execution_count": 664,
   "metadata": {
    "id": "QdO7rWISrxkL"
   },
   "outputs": [],
   "source": [
    "def create(collection1, collection2, data1, data2):\n",
    "    id_rus = collection1.insert_one(data1).inserted_id \n",
    "    data2['original_text_id'] = id_rus # запоминаем id русского текста и кладем к цыганским данным,\n",
    "                                       # чтобы их связать между собой\n",
    "    id_roma = collection2.insert_one(data2).inserted_id\n",
    "    print('Created successfully.')"
   ]
  },
  {
   "cell_type": "code",
   "execution_count": 665,
   "metadata": {},
   "outputs": [
    {
     "name": "stdout",
     "output_type": "stream",
     "text": [
      "Created successfully.\n"
     ]
    }
   ],
   "source": [
    "create(rus,roma,\n",
    "       {\"title\": 'Питер Пэн', \n",
    "        \"author\":'Джеймс Мэтью Барри',\n",
    "        \"year\":float(1902),\n",
    "        \"sentence\":'Весь мир сделан из веры, доверия и пыльцы фей.'},\n",
    "       {\"title\":'Peter Pan',\n",
    "        \"year\":float(1999),\n",
    "        \"sentence\":'All the world is made of faith, and trust, and pixie dust.'})"
   ]
  },
  {
   "cell_type": "markdown",
   "metadata": {},
   "source": [
    "#### Читать данные по найденным парам ключ-значение"
   ]
  },
  {
   "cell_type": "code",
   "execution_count": 666,
   "metadata": {},
   "outputs": [],
   "source": [
    "def read(collection, key, value):\n",
    "    if collection.count_documents({key:value}) != 0:\n",
    "        return collection.find({key:value})[0]\n",
    "    else:\n",
    "        return 'No such document found.'"
   ]
  },
  {
   "cell_type": "markdown",
   "metadata": {},
   "source": [
    "Выведем из двух коллекций оригинал и перевод добавленного предложения"
   ]
  },
  {
   "cell_type": "code",
   "execution_count": 667,
   "metadata": {},
   "outputs": [
    {
     "name": "stdout",
     "output_type": "stream",
     "text": [
      "Оригинал: Весь мир сделан из веры, доверия и пыльцы фей.\n"
     ]
    }
   ],
   "source": [
    "rus_updated_res = read(rus, 'author', 'Джеймс Мэтью Барри')\n",
    "print('Оригинал:', rus_updated_res['sentence'])"
   ]
  },
  {
   "cell_type": "code",
   "execution_count": 668,
   "metadata": {},
   "outputs": [
    {
     "name": "stdout",
     "output_type": "stream",
     "text": [
      "6244b2ecf1b3d998f92bf58d\n",
      "Перевод: All the world is made of faith, and trust, and pixie dust.\n"
     ]
    }
   ],
   "source": [
    "id_updated_rus = rus_updated_res['_id']\n",
    "print(id_updated_rus) # запомнили id, чтобы потом удалить этот документ\n",
    "print('Перевод:', read(roma, 'original_text_id', id_updated_rus)['sentence'])"
   ]
  },
  {
   "cell_type": "code",
   "execution_count": 669,
   "metadata": {},
   "outputs": [
    {
     "data": {
      "text/plain": [
       "'No such document found.'"
      ]
     },
     "execution_count": 669,
     "metadata": {},
     "output_type": "execute_result"
    }
   ],
   "source": [
    "read(rus, 'author', 'Петя Петров') # Такого нет, все выводится правильно"
   ]
  },
  {
   "cell_type": "markdown",
   "metadata": {},
   "source": [
    "#### Изменение данных (отдельно для каждой коллекции, мало ли что захочется поменять)"
   ]
  },
  {
   "cell_type": "code",
   "execution_count": 670,
   "metadata": {},
   "outputs": [],
   "source": [
    "def update(collection, _id, key, value):\n",
    "    if collection.count_documents({'_id':ObjectId(_id)}) != 0:\n",
    "        collection.update_one({\"_id\": ObjectId(_id)}, {\"$set\":{key:value}})\n",
    "        return 'Updated successfully.'\n",
    "    else:\n",
    "        return 'No such id found.'"
   ]
  },
  {
   "cell_type": "code",
   "execution_count": 671,
   "metadata": {},
   "outputs": [
    {
     "data": {
      "text/plain": [
       "'Updated successfully.'"
      ]
     },
     "execution_count": 671,
     "metadata": {},
     "output_type": "execute_result"
    }
   ],
   "source": [
    "update(rus, '6244b2ecf1b3d998f92bf58d', 'author', 'Петя Петров')"
   ]
  },
  {
   "cell_type": "code",
   "execution_count": 672,
   "metadata": {},
   "outputs": [
    {
     "data": {
      "text/plain": [
       "{'_id': ObjectId('6244b2ecf1b3d998f92bf58d'),\n",
       " 'title': 'Питер Пэн',\n",
       " 'author': 'Петя Петров',\n",
       " 'year': 1902.0,\n",
       " 'sentence': 'Весь мир сделан из веры, доверия и пыльцы фей.'}"
      ]
     },
     "execution_count": 672,
     "metadata": {},
     "output_type": "execute_result"
    }
   ],
   "source": [
    "read(rus, '_id', ObjectId('6244b2ecf1b3d998f92bf58d'))"
   ]
  },
  {
   "cell_type": "markdown",
   "metadata": {},
   "source": [
    "#### Удаление документов из двух коллекций по заданному условию ключ-значение (для русской коллекции)"
   ]
  },
  {
   "cell_type": "code",
   "execution_count": 673,
   "metadata": {},
   "outputs": [],
   "source": [
    "def delete(collection1, collection2, key, value):\n",
    "    if collection1.count_documents({key:value}) != 0:\n",
    "        id_to_delete = read(collection1, key, value)['_id']\n",
    "        collection1.delete_one({key:value})\n",
    "        collection2.delete_one({'original_text_id':id_to_delete})\n",
    "        print('Deleted successfully.')"
   ]
  },
  {
   "cell_type": "code",
   "execution_count": 674,
   "metadata": {},
   "outputs": [
    {
     "name": "stdout",
     "output_type": "stream",
     "text": [
      "Deleted successfully.\n"
     ]
    }
   ],
   "source": [
    "delete(rus, roma, 'author', 'Петя Петров')"
   ]
  },
  {
   "cell_type": "code",
   "execution_count": 675,
   "metadata": {},
   "outputs": [
    {
     "data": {
      "text/plain": [
       "'No such document found.'"
      ]
     },
     "execution_count": 675,
     "metadata": {},
     "output_type": "execute_result"
    }
   ],
   "source": [
    "read(rus, 'author', 'Петя Петров')"
   ]
  },
  {
   "cell_type": "code",
   "execution_count": 676,
   "metadata": {},
   "outputs": [
    {
     "data": {
      "text/plain": [
       "'No such document found.'"
      ]
     },
     "execution_count": 676,
     "metadata": {},
     "output_type": "execute_result"
    }
   ],
   "source": [
    "read(roma, 'original_text_id', '6244b2ecf1b3d998f92bf58d')"
   ]
  },
  {
   "cell_type": "markdown",
   "metadata": {},
   "source": [
    "проверим на наличие документов (до update и после него) после операции удаления"
   ]
  },
  {
   "cell_type": "code",
   "execution_count": 677,
   "metadata": {},
   "outputs": [
    {
     "data": {
      "text/plain": [
       "'No such document found.'"
      ]
     },
     "execution_count": 677,
     "metadata": {},
     "output_type": "execute_result"
    }
   ],
   "source": [
    "read(rus, 'author', 'Петя Петров')"
   ]
  },
  {
   "cell_type": "code",
   "execution_count": 678,
   "metadata": {},
   "outputs": [
    {
     "data": {
      "text/plain": [
       "'No such document found.'"
      ]
     },
     "execution_count": 678,
     "metadata": {},
     "output_type": "execute_result"
    }
   ],
   "source": [
    "read(rus, 'author', 'Джеймс Мэтью Барри')"
   ]
  },
  {
   "cell_type": "markdown",
   "metadata": {},
   "source": [
    "### Функции для интерфейса (приложения)"
   ]
  },
  {
   "cell_type": "code",
   "execution_count": 679,
   "metadata": {},
   "outputs": [
    {
     "data": {
      "text/plain": [
       "'sentence_text'"
      ]
     },
     "execution_count": 679,
     "metadata": {},
     "output_type": "execute_result"
    }
   ],
   "source": [
    "rus.create_index([('sentence', 'text')], default_language=\"russian\")"
   ]
  },
  {
   "cell_type": "code",
   "execution_count": 680,
   "metadata": {},
   "outputs": [
    {
     "data": {
      "text/plain": [
       "'sentence_text'"
      ]
     },
     "execution_count": 680,
     "metadata": {},
     "output_type": "execute_result"
    }
   ],
   "source": [
    "roma.create_index([('sentence', 'text')])"
   ]
  },
  {
   "cell_type": "markdown",
   "metadata": {},
   "source": [
    "#### Поиск по русским токенам (и даже словосочетаниям)"
   ]
  },
  {
   "cell_type": "code",
   "execution_count": 681,
   "metadata": {},
   "outputs": [],
   "source": [
    "def rus_search(query):\n",
    "    output = []\n",
    "    for t in rus.find({\"$text\": {\"$search\": query}}):\n",
    "        found = roma.find_one({'original_text_id': t['_id']})\n",
    "        output.append({'rus': t['sentence'], \n",
    "                    'roma': found['sentence'], \n",
    "                    'author': t['author'],\n",
    "                    'title_rus': t['title'],\n",
    "                    'year_original': t['year'],\n",
    "                    'title_roma': found['title'],\n",
    "                    'year_translation': found['year']})\n",
    "    return output"
   ]
  },
  {
   "cell_type": "code",
   "execution_count": 682,
   "metadata": {},
   "outputs": [
    {
     "data": {
      "text/plain": [
       "[{'rus': 'Опять она видит шоссе, покрытое жидкою грязью.',\n",
       "  'roma': 'Отэнчя ёй дыкхэла шоссе, учякирдо жыдконэ блатаса.',\n",
       "  'author': 'Антон Чехов',\n",
       "  'title_rus': 'Спать хочется. Ванька',\n",
       "  'year_original': 1888.0,\n",
       "  'title_roma': 'Тэ совэм камэлпэ. Ванька',\n",
       "  'year_translation': 1934.0},\n",
       " {'rus': 'Вдруг люди с котомками и тени надают на землю в жидкую грязь.',\n",
       "  'roma': 'Екхатыр мануша гонэнца и тененца пэрна прэ пхув дрэ жыдко блата.',\n",
       "  'author': 'Антон Чехов',\n",
       "  'title_rus': 'Спать хочется. Ванька',\n",
       "  'year_original': 1888.0,\n",
       "  'title_roma': 'Тэ совэм камэлпэ. Ванька',\n",
       "  'year_translation': 1934.0},\n",
       " {'rus': 'Но вот подул ветер, пропали облака, и Варька видит широкое шоссе, покрытое жидкою грязью; по шоссе тянутся обозы, плетутся люди с котомками на спинах, носятся взад и вперед какие-то тени; по обе стороны сквозь холодный, суровый туман видны леса.',\n",
       "  'roma': 'Нэ окэ запхурдыя балвал, хасинэ облаки и Варька дыкхэла буґло шоссе учякирдо жыдконэ блатаса; пиро шоссе тырдэнапэ обозэ, джяна мануша гонэнца про думэ, лыджянапэ палэ и ангил савэ-то тени; пир сарэ дуй строны пирдал шылало, холямо тумано дыкхнэ сы вэша.',\n",
       "  'author': 'Антон Чехов',\n",
       "  'title_rus': 'Спать хочется. Ванька',\n",
       "  'year_original': 1888.0,\n",
       "  'title_roma': 'Тэ совэм камэлпэ. Ванька',\n",
       "  'year_translation': 1934.0}]"
      ]
     },
     "execution_count": 682,
     "metadata": {},
     "output_type": "execute_result"
    }
   ],
   "source": [
    "rus_search('жидкая грязь')"
   ]
  },
  {
   "cell_type": "markdown",
   "metadata": {},
   "source": [
    "#### Поиск по цыганским токенам (ищет только слово в слово)"
   ]
  },
  {
   "cell_type": "code",
   "execution_count": 683,
   "metadata": {},
   "outputs": [],
   "source": [
    "from bson.objectid import ObjectId\n",
    "def roma_search(query):\n",
    "    output = []\n",
    "    for t in roma.find({\"$text\": {\"$search\": query}}):\n",
    "        found = rus.find_one({'_id':t['original_text_id']})\n",
    "        output.append({'rus':found['sentence'], \n",
    "                    'roma': t['sentence'], \n",
    "                    'author': found['author'],\n",
    "                    'title_rus':found['title'],\n",
    "                    'year_original': found['year'],\n",
    "                    'title_roma':t['title'],\n",
    "                    'year_translation':t['year']})\n",
    "    return output"
   ]
  },
  {
   "cell_type": "code",
   "execution_count": 684,
   "metadata": {},
   "outputs": [
    {
     "data": {
      "text/plain": [
       "[{'rus': 'Выпей-ка огуречного рассолу с медом, а всего бы лучше опохмелиться полстаканчиком настойки.',\n",
       "  'roma': 'Выпи-ка граставицэндыр лондо пайори ягвинэса, а фэдыр сарэстыр тэ выпьес паш мусэроро бравинта.',\n",
       "  'author': 'Александр Пушкин',\n",
       "  'title_rus': 'Капитанская дочка',\n",
       "  'year_original': 1836.0,\n",
       "  'title_roma': 'Капитаноскири чяй',\n",
       "  'year_translation': 1936.0},\n",
       " {'rus': 'А на неделе хозяйка велела мне почистить селедку, а я начал с хвоста, а она взяла селедку и ейной мордой начала меня в харю тыкать.',\n",
       "  'roma': 'А про курко хуланы пхэндя мангэ тэ ошулавав лондо мачё, а мэ лыёмпэ порьятыр, а ёй лыя мачё и лэскирэ шэрэса лыя ман дро муй тэ пэкавэл.',\n",
       "  'author': 'Антон Чехов',\n",
       "  'title_rus': 'Спать хочется. Ванька',\n",
       "  'year_original': 1888.0,\n",
       "  'title_roma': 'Тэ совэм камэлпэ. Ванька',\n",
       "  'year_translation': 1934.0}]"
      ]
     },
     "execution_count": 684,
     "metadata": {},
     "output_type": "execute_result"
    }
   ],
   "source": [
    "roma_search('лондо мачё')"
   ]
  },
  {
   "cell_type": "markdown",
   "metadata": {},
   "source": [
    "#### Поиск по тегам, вывод предложений на русском и их перевода"
   ]
  },
  {
   "cell_type": "code",
   "execution_count": 739,
   "metadata": {},
   "outputs": [],
   "source": [
    "def pos_search(pos_string):\n",
    "    output = []\n",
    "    for t in rus.find({'pos_tags': {'$regex': pos_string}}):\n",
    "        found = roma.find_one({'original_text_id': t['_id']})\n",
    "        output.append({'rus': t['sentence'], \n",
    "                    'roma': found['sentence'], \n",
    "                    'author': t['author'],\n",
    "                    'title_rus': t['title'],\n",
    "                    'year_original': t['year'],\n",
    "                    'title_roma': found['title'],\n",
    "                    'year_translation': found['year']})\n",
    "    return output"
   ]
  },
  {
   "cell_type": "code",
   "execution_count": 741,
   "metadata": {},
   "outputs": [
    {
     "name": "stdout",
     "output_type": "stream",
     "text": [
      "{'author': 'Александр Пушкин',\n",
      " 'roma': 'Глава I. Бут бэрша одолэскэ палэ дрэ екх пэскирэ филатинэндыр джиндя '\n",
      "         'пхурано русско рай, Кирило Петровичё Троекурово.',\n",
      " 'rus': '\\ufeffГлава I. Несколько лет тому назад в одном из своих поместий жил '\n",
      "        'старинный русской барин, Кирила Петрович Троекуров.',\n",
      " 'title_roma': 'Дубровско',\n",
      " 'title_rus': 'Дубровский',\n",
      " 'year_original': 1841.0,\n",
      " 'year_translation': 1935.0}\n",
      "{'author': 'Александр Пушкин',\n",
      " 'roma': 'Пашылатунэ рая радымаса могискирдэ тэ кэрэн со наяви ваш лэскири '\n",
      "         'угода; форитка чиновникэ трэнскирнаспэ дарипнастыр, коли кон '\n",
      "         'рипирлас лэскиро лав;',\n",
      " 'rus': 'Соседи рады были угождать малейшим его прихотям; губернские чиновники '\n",
      "        'трепетали при его имени;',\n",
      " 'title_roma': 'Дубровско',\n",
      " 'title_rus': 'Дубровский',\n",
      " 'year_original': 1841.0,\n",
      " 'year_translation': 1935.0}\n"
     ]
    }
   ],
   "source": [
    "for i in pos_search('NOUN NOUN')[:2]:\n",
    "    pprint(i)"
   ]
  },
  {
   "cell_type": "markdown",
   "metadata": {},
   "source": [
    "### Сортировка, группировка, агрегация данных"
   ]
  },
  {
   "cell_type": "markdown",
   "metadata": {},
   "source": [
    "#### Группировка по авторам и сортировка по кол-ву произведений"
   ]
  },
  {
   "cell_type": "code",
   "execution_count": 685,
   "metadata": {},
   "outputs": [
    {
     "name": "stdout",
     "output_type": "stream",
     "text": [
      "{'_id': {'status': 'Александр Пушкин'}, 'count': 2932}\n",
      "{'_id': {'status': 'Лев Толстой'}, 'count': 304}\n",
      "{'_id': {'status': 'Антон Чехов'}, 'count': 216}\n",
      "{'_id': {'status': 'Александр Неверов'}, 'count': 188}\n"
     ]
    }
   ],
   "source": [
    "res = rus.aggregate([\n",
    "    {\"$group\" : {\"_id\":{\"status\":\"$author\"}, \"count\":{\"$sum\":1}}},\n",
    "    {\"$sort\":{\"count\":-1}}\n",
    "])\n",
    "for i in res:\n",
    "    print(i)"
   ]
  },
  {
   "cell_type": "markdown",
   "metadata": {},
   "source": [
    "#### Группировка по авторам и подсчет средней длины предложений"
   ]
  },
  {
   "cell_type": "code",
   "execution_count": 688,
   "metadata": {},
   "outputs": [
    {
     "name": "stdout",
     "output_type": "stream",
     "text": [
      "{'_id': 'Лев Толстой', 'average_text_len': 85.08881578947368}\n",
      "{'_id': 'Александр Пушкин', 'average_text_len': 73.20770804911324}\n",
      "{'_id': 'Антон Чехов', 'average_text_len': 72.39814814814815}\n",
      "{'_id': 'Александр Неверов', 'average_text_len': 46.202127659574465}\n"
     ]
    }
   ],
   "source": [
    "author_len_res = rus.aggregate([\n",
    "    {\"$project\": {\n",
    "        \"sentence\": 1,\n",
    "        \"length\": {\"$strLenCP\": \"$sentence\"},\n",
    "        \"author\": 1}},\n",
    "    {\"$group\": {\"_id\": \"$author\",\n",
    "                \"average_text_len\":{\"$avg\":\"$length\"}}},\n",
    "    {\"$sort\":{\"average_text_len\":-1}}\n",
    "     ])\n",
    "for i in author_len_res:\n",
    "    print(i)"
   ]
  },
  {
   "cell_type": "code",
   "execution_count": 689,
   "metadata": {},
   "outputs": [
    {
     "name": "stdout",
     "output_type": "stream",
     "text": [
      "{'_id': 'Лев Толстой', 'average_text_len': 86.64802631578948}\n",
      "{'_id': 'Антон Чехов', 'average_text_len': 75.75925925925925}\n",
      "{'_id': 'Александр Пушкин', 'average_text_len': 75.2943383356071}\n",
      "{'_id': 'Александр Неверов', 'average_text_len': 50.712765957446805}\n"
     ]
    }
   ],
   "source": [
    "author_len_res = roma.aggregate([\n",
    "    {\"$project\": {\n",
    "        \"sentence\": 1,\n",
    "        \"length\": {\"$strLenCP\": \"$sentence\"},\n",
    "        \"author\": 1}},\n",
    "    {\"$group\": {\"_id\": \"$author\",\n",
    "                \"average_text_len\":{\"$avg\":\"$length\"}}},\n",
    "    {\"$sort\":{\"average_text_len\":-1}}\n",
    "     ])\n",
    "for i in author_len_res:\n",
    "    print(i)"
   ]
  },
  {
   "cell_type": "markdown",
   "metadata": {},
   "source": [
    "#### Сортировка по годам написания и перевода"
   ]
  },
  {
   "cell_type": "code",
   "execution_count": 599,
   "metadata": {},
   "outputs": [
    {
     "name": "stdout",
     "output_type": "stream",
     "text": [
      "[{'_id': ObjectId('624492fff1b3d998f92bd7b6'),\n",
      "  'author': 'Александр Пушкин',\n",
      "  'roma_joined': [{'_id': ObjectId('624492fff1b3d998f92bd7b7'),\n",
      "                   'original_text_id': ObjectId('624492fff1b3d998f92bd7b6'),\n",
      "                   'sentence': 'Колежско регистраторо.',\n",
      "                   'title': 'Станцыонно смотрителё',\n",
      "                   'year': 1936.0}],\n",
      "  'sentence': 'Коллежский регистратор.',\n",
      "  'title': 'Станционный смотритель',\n",
      "  'year': 1831.0},\n",
      " {'_id': ObjectId('624492fff1b3d998f92bd7b8'),\n",
      "  'author': 'Александр Пушкин',\n",
      "  'roma_joined': [{'_id': ObjectId('624492fff1b3d998f92bd7b9'),\n",
      "                   'original_text_id': ObjectId('624492fff1b3d998f92bd7b8'),\n",
      "                   'sentence': 'Кон, дрэ холы, на пучья лэндыр бибахталы '\n",
      "                               'лылвари, собы тэ вчинэс дрэ адая лылвари ваш '\n",
      "                               'начяльникэнгиро нартыма, ваш наковлыпэн?',\n",
      "                   'title': 'Станцыонно смотрителё',\n",
      "                   'year': 1936.0}],\n",
      "  'sentence': 'Кто, в минуту гнева, не требовал от них роковой книги, дабы '\n",
      "              'вписать в оную свою бесполезную жалобу на притеснение, грубость '\n",
      "              'и неисправность?',\n",
      "  'title': 'Станционный смотритель',\n",
      "  'year': 1831.0}]\n"
     ]
    }
   ],
   "source": [
    "pipeline = [\n",
    "    {\n",
    "        '$lookup': {\n",
    "            'from': 'roma', \n",
    "            'localField': '_id', \n",
    "            'foreignField': 'original_text_id', \n",
    "            'as': 'roma_joined'\n",
    "        }\n",
    "    }\n",
    "]\n",
    "\n",
    "results = list(rus.aggregate(pipeline))\n",
    "\n",
    "sorted_by_year = sorted(results, key=lambda d: d['year'])\n",
    "pprint(sorted_by_year[:2])"
   ]
  },
  {
   "cell_type": "code",
   "execution_count": 600,
   "metadata": {},
   "outputs": [
    {
     "name": "stdout",
     "output_type": "stream",
     "text": [
      "[{'_id': ObjectId('624492faf1b3d998f92bd22e'),\n",
      "  'author': 'Александр Неверов',\n",
      "  'roma_joined': [{'_id': ObjectId('624492faf1b3d998f92bd22f'),\n",
      "                   'original_text_id': ObjectId('624492faf1b3d998f92bd22e'),\n",
      "                   'sentence': '\\ufeffРеволюцыя.',\n",
      "                   'title': 'Ракирибэна ваш тыкнэ чяворэнгэ',\n",
      "                   'year': 1930.0}],\n",
      "  'sentence': '\\ufeffРеволюция.',\n",
      "  'title': 'Неверов',\n",
      "  'year': 1925.0},\n",
      " {'_id': ObjectId('624492faf1b3d998f92bd230'),\n",
      "  'author': 'Александр Неверов',\n",
      "  'roma_joined': [{'_id': ObjectId('624492faf1b3d998f92bd231'),\n",
      "                   'original_text_id': ObjectId('624492faf1b3d998f92bd230'),\n",
      "                   'sentence': 'Приавнэ, а одой мануша прэ гаса псирна, гиля '\n",
      "                               'багана.',\n",
      "                   'title': 'Ракирибэна ваш тыкнэ чяворэнгэ',\n",
      "                   'year': 1930.0}],\n",
      "  'sentence': 'Приехали, а там народ по улицам ходит, песий поют.',\n",
      "  'title': 'Неверов',\n",
      "  'year': 1925.0}]\n"
     ]
    }
   ],
   "source": [
    "sorted_by_translation_year = sorted(results, key=lambda d: d['roma_joined'][0]['year'])\n",
    "pprint(sorted_by_translation_year[:2])"
   ]
  }
 ],
 "metadata": {
  "colab": {
   "name": "Rusroma_MongoDB.ipynb",
   "provenance": []
  },
  "kernelspec": {
   "display_name": "Python 3 (ipykernel)",
   "language": "python",
   "name": "python3"
  },
  "language_info": {
   "codemirror_mode": {
    "name": "ipython",
    "version": 3
   },
   "file_extension": ".py",
   "mimetype": "text/x-python",
   "name": "python",
   "nbconvert_exporter": "python",
   "pygments_lexer": "ipython3",
   "version": "3.9.9"
  }
 },
 "nbformat": 4,
 "nbformat_minor": 1
}
